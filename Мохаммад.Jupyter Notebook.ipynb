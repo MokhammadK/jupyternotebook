{
 "cells": [
  {
   "cell_type": "markdown",
   "id": "8f025fc6",
   "metadata": {},
   "source": [
    "| year | rank | company               | revenue | profit |\n",
    "|------|------|-----------------------|---------|--------|\n",
    "| 1955 | 229  | Norton                | 135.0   | N.A.   |\n",
    "| 1955 | 291  | Schlitz Brewing       | 100.0   | N.A.   |\n",
    "| 1955 | 295  | Pacific Vegetable Oil | 97.9    | N.A.   |\n",
    "| 1955 | 297  | Liebmann              | 96.0    | N.A.   |\n",
    "| 1955 | 353  | Minneapolis-Moline    | 77.4    | N.A.   |"
   ]
  },
  {
   "cell_type": "code",
   "execution_count": 12,
   "id": "ba90cf44",
   "metadata": {},
   "outputs": [
    {
     "name": "stdout",
     "output_type": "stream",
     "text": [
      "Collecting faker\n",
      "  Downloading Faker-18.6.2-py3-none-any.whl (1.7 MB)\n",
      "     ---------------------------------------- 1.7/1.7 MB 748.5 kB/s eta 0:00:00\n",
      "Requirement already satisfied: python-dateutil>=2.4 in c:\\users\\bruger\\anaconda3\\lib\\site-packages (from faker) (2.8.2)\n",
      "Requirement already satisfied: six>=1.5 in c:\\users\\bruger\\anaconda3\\lib\\site-packages (from python-dateutil>=2.4->faker) (1.16.0)\n",
      "Installing collected packages: faker\n",
      "Successfully installed faker-18.6.2\n",
      "Note: you may need to restart the kernel to use updated packages.\n"
     ]
    }
   ],
   "source": [
    "pip install faker\n"
   ]
  },
  {
   "cell_type": "code",
   "execution_count": 16,
   "id": "2444e4ef",
   "metadata": {},
   "outputs": [
    {
     "name": "stdout",
     "output_type": "stream",
     "text": [
      "Average sort time for int_list: 0.13484454154968262 seconds\n",
      "Average sort time for int_list: 0.14834303855895997 seconds\n",
      "Average sort time for int_list: 0.1400367259979248 seconds\n",
      "Average sort time for int_list: 0.14257371425628662 seconds\n",
      "Average sort time for int_list: 0.13968639373779296 seconds\n",
      "Average sort time for int_list: 0.14034538269042968 seconds\n",
      "Average sort time for int_list: 0.13712515830993652 seconds\n",
      "Average sort time for int_list: 0.09869265556335449 seconds\n",
      "1.47 s ± 162 ms per loop (mean ± std. dev. of 7 runs, 1 loop each)\n"
     ]
    }
   ],
   "source": [
    "%%timeit\n",
    "\n",
    "import random\n",
    "import time\n",
    "from faker import Faker\n",
    "\n",
    "fake = Faker()\n",
    "\n",
    "int_list = random.choices(range(0, 1001), k=5000)\n",
    "float_list = [random.uniform(0.1, 100.0) for _ in range(5000)]\n",
    "str_list = [fake.word() for _ in range(5000)]\n",
    "\n",
    "\n",
    "def insertion_sort(arr):\n",
    "    for i in range(1, len(arr)):\n",
    "        key = arr[i]\n",
    "        j = i - 1\n",
    "        while j >= 0 and key < arr[j]:\n",
    "            arr[j + 1] = arr[j]\n",
    "            j -= 1\n",
    "        arr[j + 1] = key\n",
    "\n",
    "\n",
    "def get_average_sort_time(sort_func, arr, num_iters):\n",
    "    total_time = 0\n",
    "    for i in range(num_iters):\n",
    "        start_time = time.time()\n",
    "        sort_func(arr)\n",
    "        end_time = time.time()\n",
    "        total_time += end_time - start_time\n",
    "    return total_time / num_iters\n",
    "\n",
    "\n",
    "avg_sort_time = get_average_sort_time(insertion_sort, int_list, 10)\n",
    "print(f\"Average sort time for int_list: {avg_sort_time} seconds\")"
   ]
  },
  {
   "cell_type": "code",
   "execution_count": null,
   "id": "839be0ba",
   "metadata": {},
   "outputs": [],
   "source": []
  }
 ],
 "metadata": {
  "kernelspec": {
   "display_name": "Python 3 (ipykernel)",
   "language": "python",
   "name": "python3"
  },
  "language_info": {
   "codemirror_mode": {
    "name": "ipython",
    "version": 3
   },
   "file_extension": ".py",
   "mimetype": "text/x-python",
   "name": "python",
   "nbconvert_exporter": "python",
   "pygments_lexer": "ipython3",
   "version": "3.9.13"
  }
 },
 "nbformat": 4,
 "nbformat_minor": 5
}
